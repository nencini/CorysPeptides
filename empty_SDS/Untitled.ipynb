{
 "cells": [
  {
   "cell_type": "code",
   "execution_count": 2,
   "id": "c6f72c87",
   "metadata": {},
   "outputs": [
    {
     "name": "stderr",
     "output_type": "stream",
     "text": [
      "/home/ricky/anaconda3/envs/all3/lib/python3.8/site-packages/tqdm/auto.py:22: TqdmWarning: IProgress not found. Please update jupyter and ipywidgets. See https://ipywidgets.readthedocs.io/en/stable/user_install.html\n",
      "  from .autonotebook import tqdm as notebook_tqdm\n",
      "/home/ricky/anaconda3/envs/all3/lib/python3.8/site-packages/MDAnalysis/coordinates/chemfiles.py:59: DeprecationWarning: distutils Version classes are deprecated. Use packaging.version instead.\n",
      "  MIN_CHEMFILES_VERSION = LooseVersion(\"0.9\")\n"
     ]
    }
   ],
   "source": [
    "import sys\n",
    "import numpy as np\n",
    "from scipy import optimize\n",
    "sys.path.insert(1, '/home/ricky/Documents/from_work/git/NMR_FF_tools/relaxation_times/')\n",
    "import relaxation_times as rt\n",
    "import manage_files as mf\n",
    "import plotting as pt\n",
    "import matplotlib.pyplot as plt\n",
    "import os\n",
    "import re\n",
    "import yaml\n",
    "import fnmatch\n",
    "#from numba import jit #\n",
    "\n",
    "#gyromagnetic ratios for further developmant\n",
    "# !!! NOTICE!!!\n",
    "#values taken from matlab code and projecct work and slightly different than those in Wikipedia\n",
    "#these values are also in the external file --> if change is needed; has to be changed there\n",
    "#values here in jupyter just for the information and verify, why they are different\n",
    "#!!! NOTICE END !!!\n",
    "gammaD=41.695*10**6; #r*s^(-1)*T^(-1)\n",
    "gammaH=267.513*10**6;\n",
    "gammaC=67.262*10**6;\n",
    "gammaN=-27.166*10**6;"
   ]
  },
  {
   "cell_type": "code",
   "execution_count": 7,
   "id": "0c713bf6",
   "metadata": {},
   "outputs": [
    {
     "name": "stdout",
     "output_type": "stream",
     "text": [
      "Spin relaxation data exist for:\n",
      "\n",
      "   * GWALP_monomer_micelle_50SDS_CHARMM_310K_Na_Neut_OPC_replica1\n",
      "   * eElab_micelle_50SDS_CHARMM_310K_Na_Neut_OPC_replica2\n",
      "   * empty_60SDS_10fsSF_replica1_81A\n",
      "   * empty_60SDS_100fsSF_replica1\n",
      "   * empty_60SDS_10psSF_replica2\n",
      "   * GWALP_dimer_micelle_40SDS_CHARMM_310K_Na_Neut_OPC_replica1\n",
      "\n",
      " \n",
      "Timescales exist for:\n",
      "\n",
      "   * GWALP_monomer_micelle_50SDS_CHARMM_310K_Na_Neut_OPC_replica1\n",
      "   * eElab_micelle_50SDS_CHARMM_310K_Na_Neut_OPC_replica2\n",
      "   * GWALP_dimer_micelle_40SDS_CHARMM_310K_Na_Neut_OPC_replica1\n",
      "   * empty_60SDS_10fsSF_replica1_81A\n",
      "   * empty_60SDS_100fsSF_replica1\n",
      "   * empty_60SDS_10psSF_replica2\n"
     ]
    }
   ],
   "source": [
    "output_path_relax=\"../../CorysPeptides/relax_times_yamls/SDS/average_over_SDS/\"            # folder to save spin relaxation times yaml files, \n",
    "                                      # defined above or redefine here \n",
    "output_path_timescales=\"../../CorysPeptides/timescales_yamls/SDS/average_over_SDS/\"  # folder to save timescale yaml files\n",
    "                                      # defined above or redefine here\n",
    "\n",
    "relaxation_yamls,timescales_yamls=mf.load_yaml_files(output_path_relax,output_path_timescales)"
   ]
  },
  {
   "cell_type": "code",
   "execution_count": null,
   "id": "f8b35bf2",
   "metadata": {},
   "outputs": [],
   "source": []
  }
 ],
 "metadata": {
  "kernelspec": {
   "display_name": "all3",
   "language": "python",
   "name": "all3"
  },
  "language_info": {
   "codemirror_mode": {
    "name": "ipython",
    "version": 3
   },
   "file_extension": ".py",
   "mimetype": "text/x-python",
   "name": "python",
   "nbconvert_exporter": "python",
   "pygments_lexer": "ipython3",
   "version": "3.8.15"
  }
 },
 "nbformat": 4,
 "nbformat_minor": 5
}
